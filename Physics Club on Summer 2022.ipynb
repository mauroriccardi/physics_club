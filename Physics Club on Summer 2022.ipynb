{
 "cells": [
  {
   "cell_type": "markdown",
   "id": "4aabf484",
   "metadata": {},
   "source": [
    "# Physics Club on Summer 2022\n",
    "## Preliminari di Matematica\n",
    "\n",
    "Qualche strumento matematico utile per i problemi di Fisica\n",
    "\n",
    "### Derivate"
   ]
  },
  {
   "cell_type": "markdown",
   "id": "6c773c38",
   "metadata": {},
   "source": [
    "#### Approssimazioni\n",
    "Per una funzione $f(x)$ cerchiamo una approssimazione per $x\\sim x_0$\n",
    "\n",
    "$$\n",
    "x = x_0 + \\Delta x \\qquad \\textrm{ con } \\qquad \\Delta x \\sim 0\n",
    "$$ \n",
    "\n",
    "L'approssimazione della forma più semplice ha l'aspetto di un polinomio:\n",
    "\n",
    "$$\n",
    "f(x) = f(x_0+\\Delta x) \\approx a_0 + a_1 (x-x_0) + a_2 (x-x_0)^2 + \\dots\\\\\n",
    "\\ \\\\\n",
    "= a_0 + a_1 \\Delta x + a_2 \\Delta x^2 + \\dots\n",
    "$$\n",
    "\n",
    "I puntini di sospensione rappresentano dei termini ulteriori che non esplicitiamo, se tutto va bene possiamo trascurarli se $\\Delta x$ è _\"abbastanza piccolo\"_ (termine da specificare). In generale al posto dei puntini di sospensione avremmo un termine con una potenza superiore di $\\Delta x$, per esempio nel caso di una approssimazione di ordine 2 (con un polinomio di secondo grado) abbiamo:\n",
    "\n",
    "$$\n",
    "f(x) = f(x_0+\\Delta x) \\approx a_0 + a_1 (x-x_0) + a_2 (x-x_0)^2 + R_3(x_0,x)\n",
    "$$\n",
    "\n",
    "laddove il termine $R_3(x_0,x)$ deve rispettare queste condizioni:\n",
    "\n",
    "$$ \n",
    "x\\rightarrow x_0 \\Rightarrow\\\\\n",
    "\\ \\\\\n",
    "\\qquad\\qquad\\qquad\\Rightarrow R_3(x_0,x) \\rightarrow 0\\\\\n",
    "\\qquad\\qquad\\qquad\\Rightarrow \\frac{R_3(x_0,x)}{x-x_0} \\rightarrow 0\\\\\n",
    "\\qquad\\qquad\\qquad\\Rightarrow \\frac{R_3(x_0,x)}{(x-x_0)^2} \\rightarrow 0\\\\\n",
    "$$"
   ]
  },
  {
   "cell_type": "markdown",
   "id": "40596e3e",
   "metadata": {},
   "source": [
    "#### Approssimazioni di grado 0\n",
    "Una funzione $f(x)$ si dice **continua** in $x=x_0$ se possiamo scrivere l'equazione seguente, che ci dà una approssimazione di $f(x)$ con una costante (vedi lezione 1)\n",
    "\n",
    "$$\n",
    "x\\sim x_0 \\qquad f(x) = f(x_0) + R_1(x_0, x)\\\\\n",
    "\\ \\\\\n",
    "\\qquad\\qquad\\qquad\\qquad\\textrm{ dove } \\qquad x\\rightarrow x_0 \\Rightarrow R_1(x_0, x) \\rightarrow 0\n",
    "$$"
   ]
  },
  {
   "cell_type": "markdown",
   "id": "e609c4de",
   "metadata": {},
   "source": [
    "#### Approssimazioni lineari (di grado 1)\n",
    "Una funzione $f(x)$ si dice **derivabile** in $x=x_0$ se possiamo scrivere l'equazione seguente, che ci dà una approssimazione di $f(x)$ con una retta (vedi lezione 1)\n",
    "\n",
    "$$\n",
    "x\\sim x_0 \\qquad f(x) = f(x_0) + m\\cdot(x-x_0) + R_2(x_0, x)\\\\\n",
    "\\ \\\\\n",
    "\\qquad\\qquad\\qquad\\qquad\\textrm{ dove } \\qquad x\\rightarrow x_0 \\Rightarrow R_2(x_0, x) \\rightarrow 0\\\\\n",
    "\\ \\\\\n",
    "\\qquad\\qquad\\qquad\\qquad\\phantom{\\textrm{ dove }} \\qquad \\qquad \\qquad \\Rightarrow \\frac{R_2(x_0, x)}{x-x_0} \\rightarrow 0\n",
    "$$\n",
    "\n",
    "In questa equazione la pendenza $m$ si chiama **derivata di** $f(x)$ in $x=x_0$ cioè\n",
    "\n",
    "$$\n",
    "m = f'(x_0)\n",
    "$$\n",
    "\n",
    "in notazione usuale. Ricaviamo anche la forma alternativa\n",
    "\n",
    "$$\n",
    "\\frac{f(x_0+\\Delta x) - f(x_0)}{\\Delta x} = \\frac{\\Delta f}{\\Delta x}\\rightarrow f'(x_0) \\qquad \\textrm{ per } \\Delta x \\rightarrow 0\n",
    "$$\n",
    "\n",
    "Un'altra notazione per la derivata della funzione $f(x)$ è dovuta a Leibnitz:\n",
    "\n",
    "$$\n",
    "f'(x) = \\frac{df(x)}{dx}\n",
    "$$\n",
    "\n",
    "che evidentemente ricorda un po' la forma con il rapporto incrementale che abbiamo scritto qui sopra."
   ]
  },
  {
   "cell_type": "markdown",
   "id": "d6ab59aa",
   "metadata": {},
   "source": [
    "##### Interpretazione geometrica (retta tangente)\n",
    "La nostra approssimazione lineare ha una diretta interpretazione geometrica: se prendiamo i termini fino al primo ordine in $\\Delta x$:\n",
    "\n",
    "$$\n",
    "x\\sim x_0 \\qquad f(x) \\approx f(x_0) + m\\cdot(x-x_0)\\\\\n",
    "\\ \\\\ \n",
    "\\qquad\\qquad\\qquad\\qquad y = f(x_0) + f'(x_0)\\cdot(x-x_0)\n",
    "$$\n",
    "\n",
    "otteniamo l'equazione della retta tangente al grafico della funzione $f(x)$ nel punto $x=x_0$."
   ]
  },
  {
   "cell_type": "markdown",
   "id": "1dcfd2b8",
   "metadata": {},
   "source": [
    "## Regole di derivazione\n",
    "Calcolare la pendenza della retta tangente, ovvero il parametro della approssimazione lineare, è un compito che può venir portato a termine una volta data la funzione: in effetti si tratta di seguire un algoritmo ben determinato, algoritmo che stiamo imparando poco per volta nelle nostre lezioni."
   ]
  },
  {
   "cell_type": "markdown",
   "id": "84f63f08",
   "metadata": {},
   "source": [
    "### Linearità della derivata\n",
    "Per _linearità_ si intendono queste due relazioni (le funzioni $f(x)$ e $g(x)$ sono entrambe _derivabili_ - vedi definizione qui sopra):\n",
    "$$\n",
    "\\begin{array}{rclcrcl}\n",
    "h(x) & = & f(x) + g(x) & \\Rightarrow & h'(x) & = & f'(x) + g'(x)\\\\\n",
    "h(x) & = & c \\cdot f(x) & \\Rightarrow & h'(x) & = & c\\cdot f'(x) \\qquad\\qquad (c\\in\\mathbb{R})\n",
    "\\end{array}\n",
    "$$"
   ]
  },
  {
   "cell_type": "markdown",
   "id": "3c85a0ee",
   "metadata": {},
   "source": [
    "### Derivata di Polinomi\n",
    "Nelle lezioni abbiamo visto che, se $k\\in\\mathbb Z$\n",
    "$$\n",
    "\\begin{array}{rclcrcl}\n",
    "h(x) & = & x^k & \\Rightarrow & h'(x) & = & k \\cdot x^{k-1}\n",
    "\\end{array}\n",
    "$$\n",
    "Insieme alle [proprietà di linearità](#linearità-della-derivata) possiamo usare questa relazione per determinare la derivata di qualunque polinomio:\n",
    "$$\n",
    "h(x) = a_0 + a_1 x + a_2 x^2 + \\cdots + a_N x^N \\Rightarrow h'(x) = a_1 + 2 a_2 x + 3 a_3 x^2 + \\cdots + N a_N x^{N-1}\n",
    "$$\n",
    "per esempio\n",
    "$$\n",
    "h(x) = 3 x + 5 x^3 - 4 x^5 + x^7 \\Rightarrow h'(x) = 3 + 15 x^2 - 20 x^4 + 7 x^6\n",
    "$$"
   ]
  },
  {
   "cell_type": "markdown",
   "id": "e2122c89",
   "metadata": {},
   "source": [
    "### Prodotto di funzioni (regola di Leibnitz)\n",
    "\n",
    "Nella lezione 5 abbiamo visto come si calcola la derivata di una funzione definita tramite il prodotto di due funzioni derivabili:\n",
    "$$\n",
    "h(x) = f(x) g(x) \\qquad \\Rightarrow \\qquad h'(x) = f'(x) g(x) + f(x) g'(x)\n",
    "$$\n",
    "Questa è la cosiddetta **regola di Leibnitz**, che è possibile estendere ad un prodotto di un numero maggiore di funzioni:\n",
    "$$\n",
    "h(x) = f(x) g(x) k(x) \\qquad \\Rightarrow \\qquad h'(x) = f'(x) g(x) k(x) + f(x) g'(x) k(x) + f(x) g(x) k'(x)\n",
    "$$\n",
    "In generale quindi la derivata del prodotto di $N$ funzioni sarà data da una somma di $N$ termini, ognuno composto dal prodotto delle $N$ funzioni originali, in cui ciascuna delle funzioni, a turno, compare come derivata.\n",
    "\n",
    "#### Una elegante riscrittura di R.P.Feynman\n",
    "\n",
    "Il grande Richard Feynman riscriveva la derivata di un prodotto di $N$ funzioni in questo modo:\n",
    "\n",
    "$$\n",
    "h(x) = f_1(x)\\cdot f_2(x)\\cdot \\dots \\cdot f_N(x) \\qquad \\Rightarrow \\qquad h'(x) = \\left(\\frac{f'_1(x)}{f_1(x)} + \\frac{f'_2(x)}{f_2(x)} + \\dots + \\frac{f'_N(x)}{f_N(x)} \\right) \\cdot h(x)\n",
    "$$\n",
    "\n",
    "Questo permette in alcuni casi di fare i calcoli più velocemente, per via di opportunità di semplificazione."
   ]
  },
  {
   "cell_type": "markdown",
   "id": "0d8d2dda",
   "metadata": {},
   "source": [
    "### Rapporto tra due funzioni\n",
    "\n",
    "Sempre nella lezione 5 abbiamo visto come calcolare la derivata di una funzione scritta come il rapporto tra due funzioni derivabili (si sottintende che il denominatore non si annulli per il valore di $x$ in cui ci interessa calcolare la derivata):\n",
    "\n",
    "$$\n",
    "h(x) = \\frac{f(x)}{g(x)} \\qquad \\Rightarrow \\qquad h'(x) = \\frac{f'(x)\\;g(x) - f(x)\\;g'(x)}{g(x)^2}\n",
    "$$"
   ]
  },
  {
   "cell_type": "markdown",
   "id": "9c65d824",
   "metadata": {},
   "source": [
    "### Funzione di funzione\n",
    "\n",
    "Nella lezione successiva abbiamo visto come calcolare la derivata di una funzione composta, ottenuta tramite la composizione di funzioni derivabili:\n",
    "\n",
    "$$\n",
    "h(x) = f(g(x)) \\qquad \\Rightarrow \\qquad h'(x) = g'(x) f'(g(x))\n",
    "$$\n",
    "\n",
    "Questa regola è eccezionalmente importante, infatti in molti casi anche funzioni abbastanza comuni risultano essere il risultato di una composizione di altre funzioni. Facciamo un esempio usando solo i polinomi che abbiamo visto finora:\n",
    "\n",
    "$$\n",
    "\\begin{array}{rclcrclcl}\n",
    "h(x) & = & (x+1)^2 & \\Rightarrow & f(y) & = & y^2 \\qquad g(x) & = & x + 1 \\\\\n",
    "&&& \\Rightarrow & f'(y) & = & 2y \\qquad g'(x) & = & 1 \\\\\n",
    "&&& \\Rightarrow & h'(x) & = & g'(x) \\cdot f'(g(x)) & = & 1 \\cdot 2 g(x) = 2(x+1) = 2x+2\n",
    "\\end{array}\n",
    "$$\n",
    "\n",
    "come possiamo verificare anche derivando dopo aver calcolato il quadrato del binomio."
   ]
  },
  {
   "cell_type": "markdown",
   "id": "6cc2f112",
   "metadata": {},
   "source": [
    "### Funzione inversa\n",
    "\n",
    "Se $f(x)$ è una funzione derivabile (e dobbiamo anche richiedere anche che la derivata $f'(x)$ non si annulli) possiamo calcolare la derivata della funzione inversa $f^{-1}(y)$\n",
    "\n",
    "$$\n",
    "(f^{-1}(y))' = \\frac{1}{f'(x)} \\Bigg|_{y=f(x)}\n",
    "$$\n",
    "\n",
    "La derivata di $f(x)$ a destra di questa relazione è calcolata nel _punto corrispondente_, cioè il valore di $x$ per cui il valore della funzione è uguale al valore della variabile $y$. Una complicazione qui è certamente data dal fatto che nella stessa relazione scambiamo il ruolo delle variabili dipendenti e indipendenti.\n",
    "\n",
    "> _Attenzione: questa regola è sempre un po' complicata da leggere/interpretare, l'unico modo per padroneggiarla è fare diversi tentativi, finché non viene assimilata_"
   ]
  },
  {
   "cell_type": "markdown",
   "id": "f3eca03f",
   "metadata": {},
   "source": [
    "## Equazioni differenziali\n",
    "Una **Equazione Differenziale Ordinaria** (**EDO**) è una equazione in cui l'incognita è una **funzione** della variabile indipendente (per esempio $y(x)$), e in questa equazione compare la derivata (o _le_ derivate) della funzione incognita. Per esempio nella lezione 3 e nella lezione 4 abbiamo visto delle equazioni differenziali a _integrazione immediata_. Per esempio:\n",
    "$$\n",
    "y'(x) = x^2\n",
    "$$\n",
    "Una equazione di questo genere ammette in genere una famiglia infinita di soluzioni, dipendenti da parametri che si chiamano *costanti di integrazione*. Per esempio l'equazione qui sopra ammette come soluzioni le funzioni della famiglia di equazioni\n",
    "$$\n",
    "\\left\\{ y(x) = \\frac{1}{3} x^3 + c \\ , \\ c\\in\\mathbb{R} \\right\\}\n",
    "$$"
   ]
  },
  {
   "cell_type": "markdown",
   "id": "98b2e0a9",
   "metadata": {},
   "source": [
    "### Problemi di Cauchy\n",
    "Nella pratica risolviamo problemi di equazioni differenziali in cui oltre all'equazione differenziale propriamente detta abbiamo delle altre condizioni _accessorie_, che tipicamente riguardano il valore della funzione incognita per un qualche valore iniziale della funzione, per esempio un problema di Cauchy potrebbe essere (tratto dall'EDO qui sopra)\n",
    "$$\n",
    "\\left\\{\n",
    "  \\begin{array}{rcl}\n",
    "    y'(x) & = & x^2 \\\\\n",
    "    y(0) & = & 3 \\\\\n",
    "  \\end{array}\n",
    "\\right.\n",
    "$$\n",
    "La condizione iniziale ci permette di determinare, all'interno della famiglia di _soluzioni generali_ $\\left\\{ y(x) = \\frac{1}{3} x^3 + c \\ , \\ c\\in\\mathbb{R} \\right\\}$ la soluzione particolare di questo problema di Cauchy, tramite sostituzione:\n",
    "$$\n",
    "3 = y(0) = \\frac{1}{3} 0^3 + c \\Rightarrow c = 3\n",
    "$$\n",
    "Cioè soluzione del problema di Cauchy sarà la funzione\n",
    "$$\n",
    "y(x) = \\frac{1}{3}x^3 + 3\n",
    "$$\n",
    "che possiamo verificare rispetta sia l'equazione differenziale $y'(x) = x^2$ sia la condizione iniziale $y(0)=3$.\n",
    "$$\n",
    "y'(x) = \\frac{1}{3}(x^3)' + (3)' = \\frac{1}{3} 3 x^2 + 0 = x^2 \\qquad y(0) = \\frac{1}{3} 0^3 + 3 = 3\n",
    "$$"
   ]
  },
  {
   "cell_type": "markdown",
   "id": "9f37734f",
   "metadata": {},
   "source": [
    "## Una funzione speciale\n",
    "\n",
    "Possiamo definire una nuova funzione usando una equazione differenziale piuttosto comune:\n",
    "\n",
    "$$\n",
    "y'(x) = y(x)\n",
    "$$\n",
    "\n",
    "Per avere una soluzione unica, però, come sappiamo, dobbiamo porre un problema di Cauchy. Quindi definiamo la nuova funzione (derivabile) $y = \\exp(x)$ come la funzione che risolve il seguente problema di Cauchy:\n",
    "\n",
    "$$\n",
    "\\left\\{\n",
    "\\begin{array}{rcl}\n",
    "\\exp'(x) & = & \\exp(x) \\\\\n",
    "\\exp(0) & = & 1 \\\\\n",
    "\\end{array}\n",
    "\\right.\n",
    "$$"
   ]
  },
  {
   "cell_type": "markdown",
   "id": "e741e680",
   "metadata": {},
   "source": [
    "### Proprietà della funzione $\\exp(x)$\n",
    "\n",
    "Ovviamente la funzione ha le proprietà di avere valore $1$ per $x=0$, e di essere uguale alla sua derivata ovunque (che sono le richieste del problema di Cauchy). Ma questa funzione (a proposito, si chiama **esponenziale**) ha anche altre proprietà che possiamo ricavare: solo che ci vorrà un po' di impegno.\n",
    "\n",
    "Per non appesantire il discorso lo facciamo [in una pagina separata](una-funzione-speciale.html)"
   ]
  },
  {
   "cell_type": "markdown",
   "id": "d06bbc82",
   "metadata": {},
   "source": [
    "Il risultato finale è:\n",
    "$$\n",
    "\\exp(x) = \\left(1+\\frac{x}{N}\\right)^N \\rightarrow 1 + \\frac{x}{1!} + \\frac{x^2}{2!} + \\frac{x^3}{3!} + \\dots + \\frac{x^k}{k!} + \\dots\n",
    "$$\n",
    "\n",
    "con la notazione del **fattoriale** $k! = 1 \\cdot 2 \\cdot 3 \\cdot \\dots \\cdot k$. La somma è composta di infiniti termini (anche se possiamo \"troncare\" e prendere solo i primi termini in base alla precisione che vogliamo avere).\n",
    "\n",
    "L'espressione $\\exp(x) \\approx \\left(1+\\frac{x}{N} \\right)^N$ per $N$ _molto grande_ permette di calcolare comunque la funzione esponenziale con una certa precisione. Se non fosse che le moderne calcolatrici scientifiche hanno un apposito tasto per calcolare la stessa cosa in un colpo solo, intendo..."
   ]
  },
  {
   "cell_type": "markdown",
   "id": "20d6a37c",
   "metadata": {},
   "source": [
    "Inoltre abbiamo la proprietà fondamentale:\n",
    "\n",
    "$$\n",
    "\\exp(X)\\exp(Y) = \\exp(X+Y)\n",
    "$$\n",
    "\n",
    "### Altra lettura delle proprietà dell'esponenziale\n",
    "\n",
    "Le due proprietà\n",
    "\n",
    "$$\n",
    "\\left\\{\n",
    "\\begin{array}{rcl}\n",
    "\\exp(X) \\cdot \\exp(Y) & = & \\exp(X+Y)\\\\\n",
    "\\exp(0) & = & 1 \\\\\n",
    "\\end{array}\n",
    "\\right.\n",
    "$$\n",
    "\n",
    "sono le stesse proprietà della moltiplicazione di potenze con la stessa base! Infatti si può mostrare che esiste una costante $e$ tale che la funzione esponenziale consista nell'elevare questa costante alla potenza $x$:\n",
    "\n",
    "$$\n",
    "\\exp(x) = e^x\n",
    "$$\n",
    "\n",
    "---\n",
    "\n",
    "La costante $e$ è un numero irrazionale trascendente, si chiama **numero di Napier** (o di _Nepero_), e possiamo ottenerlo dall'espressione data prima, sostituendo $x=1$:\n",
    "\n",
    "$$\n",
    "\\left(1+\\frac{1}{N}\\right)^N \\rightarrow e \\qquad \\textrm{ per $N$ grande: } N\\rightarrow\\infty \\\\\n",
    "\\ \\textrm{ oppure } \\\\\n",
    "e = 1 + \\frac{1}{1!} + \\frac{1}{2!} + \\frac{1}{3!} + \\dots + \\frac{1}{k!} + \\dots \\\\\n",
    "\\ \\\\\n",
    "e \\approx 2.71828...\n",
    "$$\n",
    "\n",
    "---\n",
    "\n",
    "In questo modo semplicemente applicando le proprietà delle potenze con la stessa base possiamo ricordare con facilità le proprietà dell'esponenziale.\n",
    "$$\n",
    "\\left\\{\n",
    "\\begin{array}{rcl}\n",
    "e^X \\cdot e^Y & = & e^{X+Y}\\\\\n",
    "e^0 & = & 1 \\\\\n",
    "\\end{array}\n",
    "\\right.\n",
    "$$"
   ]
  },
  {
   "cell_type": "markdown",
   "id": "0166972e",
   "metadata": {},
   "source": [
    "## Regole di derivazione (cont.)\n",
    "\n",
    "Quindi abbiamo una nuova riga per la nostra tabella di regole di derivazione:\n",
    "\n",
    "$$\n",
    "\\exp'(x) = (e^x)' = e^x\n",
    "$$\n",
    "\n",
    "La derivata non banale più semplice di tutto il calcolo differenziale..."
   ]
  },
  {
   "cell_type": "markdown",
   "id": "49e60ee8",
   "metadata": {},
   "source": [
    "---\n",
    "\n",
    "<a rel=\"license\" href=\"http://creativecommons.org/licenses/by-nc-sa/4.0/\"><img alt=\"Licenza Creative Commons\" style=\"border-width:0\" src=\"https://i.creativecommons.org/l/by-nc-sa/4.0/88x31.png\" /></a><br /> <span xmlns:dct=\"http://purl.org/dc/terms/\" property=\"dct:title\">Physics Club on Summer 2022 </span> di <span xmlns:cc=\"http://creativecommons.org/ns#\" property=\"cc:attributionName\"> Mauro Riccardi </span> è distribuito con Licenza <a rel=\"license\" href=\"http://creativecommons.org/licenses/by-nc-sa/4.0/\">Creative Commons Attribuzione - Non commerciale - Condividi allo stesso modo 4.0 Internazionale</a>."
   ]
  }
 ],
 "metadata": {
  "kernelspec": {
   "display_name": "Python 3",
   "language": "python",
   "name": "python3"
  },
  "language_info": {
   "codemirror_mode": {
    "name": "ipython",
    "version": 3
   },
   "file_extension": ".py",
   "mimetype": "text/x-python",
   "name": "python",
   "nbconvert_exporter": "python",
   "pygments_lexer": "ipython3",
   "version": "3.8.10"
  }
 },
 "nbformat": 4,
 "nbformat_minor": 5
}
